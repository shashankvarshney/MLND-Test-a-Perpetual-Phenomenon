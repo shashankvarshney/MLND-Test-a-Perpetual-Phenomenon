{
 "cells": [
  {
   "cell_type": "markdown",
   "metadata": {},
   "source": [
    "# Stoop effect analysis\n",
    "\n",
    "## Table of Contents\n",
    "- [Introduction](#intro)\n",
    "  - [Claim of Stroop effect](#claim_of_stroop_efect)\n",
    "- [Details of Data set](#Details_of_data_set)\n",
    "  - [Type of Variables](#Type_of_variables)\n",
    "- [Exploratory Data Analysis](#eda)\n",
    "  - [Statistics](#statistics)\n",
    "  - [Visualizations](#visualizations)\n",
    "- [Hypothesis Creation](#hypothesis)\n",
    "  - [Applicable Statistical Test](#statistical_test)\n",
    "- [Statistical Test](#stat_test)\n",
    "  - [Dependent sample t-test](#t_test)\n",
    "- [Conclusion](#conclusion)\n"
   ]
  },
  {
   "cell_type": "markdown",
   "metadata": {},
   "source": [
    "<a id='intro'></a>\n",
    "## Introduction\n",
    "### What is Stroop effect\n",
    "In a Stroop task, participants are presented with a list of words, with each word displayed in a color of ink. The participant’s task is to say out loud the color of the ink in which the word is printed. The task has two conditions: a congruent words condition, and an incongruent words condition.\n",
    "1. **Congruent words condition**\n",
    "The words being displayed are color words whose names match the colors in which they are printed: for example RED(in Red font color), BLUE(in Blue font color).\n",
    "\n",
    "2. **Incongruent words condition**\n",
    "The words displayed are color words whose names do not match the colors in which they are printed: for example PURPLE(not In Purple font color), ORANGE(not in Orange font color).\n",
    "\n",
    "In each case, we measure the time it takes to name the ink colors in equally-sized lists. Each participant will go through and record a time from each condition.\n",
    "\n",
    "\n",
    "<a id='claim_of_stroop_efect'></a>\n",
    "### Claim of Stroop effect\n",
    "[Stroop effect](https://en.wikipedia.org/wiki/Stroop_effect) claims that person usually takes **higher time** in name the ink color in **Incongruent scenario** as compared to **Congruent scenario**.\n"
   ]
  },
  {
   "cell_type": "markdown",
   "metadata": {},
   "source": [
    "<a id='Details_of_data_set'></a>\n",
    "## Details of Data set\n",
    "[Data Set](https://www.google.com/url?q=https://drive.google.com/file/d/0B9Yf01UaIbUgQXpYb2NhZ29yX1U/view?usp%3Dsharing&sa=D&ust=1515913787649000&usg=AFQjCNF-f2PgaUNm8VNJtVqVHr6ZEntcgA) contains 25 persons who has taken both of these tests, that is, **Congruent and Incongruent word conditions** and time has been recorded which is given in the data for each person.\n",
    "\n",
    "<a id='Type_of_variables'></a>\n",
    "### Type of Variables\n",
    "1. **Dependent Variable**\n",
    "Dependent variable is time taken by each person in naming the ink colors for words.\n",
    "2. **Independet Variable**\n",
    "Independent variable is type of test, that is, **Congruent or Incongruent word conditions**."
   ]
  },
  {
   "cell_type": "markdown",
   "metadata": {},
   "source": [
    "<a id='eda'></a>\n",
    "## Exploratory Data Analysis\n",
    "In this section, we will read the data set and produce some statistics regarding the data like mean, median, sample standard deviation, etc. and after some visualization to explore data more."
   ]
  },
  {
   "cell_type": "markdown",
   "metadata": {},
   "source": [
    "<a id='statistics'></a>\n",
    "### Statistics\n",
    "First we will read the data and then perform some analysis and answer some questions.\n",
    "\n",
    "1. What is the size of the sample?\n",
    "2. What is the mean of the both samples?\n",
    "3. What is the median of the samples?\n",
    "4. What is the sample standard deviations of both the samples?\n",
    "5. What is the sample variances of both the samples?\n",
    "\n",
    "\n",
    "**Ans 1 and 2**\n",
    "1. Congruent test mean is 14.051125 and Incongruent test mean is 22.01591666666667\n",
    "2. Congruent test sample size is 24 and Incongruent test sample size is 24\n",
    "\n",
    "**Ans 3**\n",
    "3. Congruent test median is 14.3565 and Incongruent test median is 21.0175\n",
    "\n",
    "**Ans 4 and 5**\n",
    "4. Congruent test variance is 12.669029070652174 and Incongruent test variance is 23.011757036231884\n",
    "5. Congruent test stddev is 3.559357957645195 and Incongruent test stddev is 4.797057122469138"
   ]
  },
  {
   "cell_type": "code",
   "execution_count": 15,
   "metadata": {},
   "outputs": [],
   "source": [
    "# Load required libraries\n",
    "import csv\n",
    "import matplotlib.pyplot as plt\n",
    "import math"
   ]
  },
  {
   "cell_type": "code",
   "execution_count": 16,
   "metadata": {},
   "outputs": [],
   "source": [
    "# function to read file and store all values in respective list.\n",
    "def read_values(filename):\n",
    "    \"\"\"This function reads the value from sample of each test and \n",
    "    store it in a list and return that list\"\"\"\n",
    "    congruent_list = []\n",
    "    incongruent_list = []\n",
    "    with open(filename, 'r') as f_in:\n",
    "        reader = csv.DictReader(f_in)\n",
    "        for row in reader:\n",
    "            congruent_list.append(float(row['Congruent']))\n",
    "            incongruent_list.append(float(row['Incongruent']))\n",
    "    return(congruent_list, incongruent_list)"
   ]
  },
  {
   "cell_type": "code",
   "execution_count": 17,
   "metadata": {},
   "outputs": [],
   "source": [
    "# use function read_values and store it into variable to have list of Congruent and Incongruent variables\n",
    "file_name = 'project_2.csv'\n",
    "congruent_list, incongruent_list = read_values(file_name)"
   ]
  },
  {
   "cell_type": "code",
   "execution_count": 18,
   "metadata": {},
   "outputs": [
    {
     "name": "stdout",
     "output_type": "stream",
     "text": [
      "Congruent test mean is 14.051125 and Incongruent test mean is 22.01591666666667\n",
      "Congruent test sample size is 24 and Incongruent test sample size is 24\n"
     ]
    }
   ],
   "source": [
    "# This function reads list and return mean of the list and sample size.\n",
    "\n",
    "def average_value(list_name):\n",
    "    \"\"\"This function takes sample as list as input and returns\n",
    "    mean and sample_size of the sample\"\"\"\n",
    "    sample_size = len(list_name)\n",
    "    average = sum(list_name)/sample_size\n",
    "    \n",
    "    return(average, sample_size)\n",
    "\n",
    "# Using function average_value to calculate mean of Congruent and Incongruent tests\n",
    "\n",
    "average_congruent, size_congruent = average_value(congruent_list)\n",
    "average_incongruent, size_incongruent = average_value(incongruent_list)\n",
    "\n",
    "print(\"Congruent test mean is {} and Incongruent test mean is {}\".format(\n",
    "    average_congruent, average_incongruent))\n",
    "print(\"Congruent test sample size is {} and Incongruent test sample size is {}\".format(\n",
    "    size_congruent, size_incongruent))"
   ]
  },
  {
   "cell_type": "code",
   "execution_count": 19,
   "metadata": {},
   "outputs": [
    {
     "name": "stdout",
     "output_type": "stream",
     "text": [
      "Congruent test median is 14.3565 and Incongruent test median is 21.0175\n"
     ]
    }
   ],
   "source": [
    "# This function reads list and return median of the list\n",
    "\n",
    "def median_value(list_name):\n",
    "    \"\"\"This function takes sample values for a test as list and\n",
    "    returns median of the sample\"\"\"\n",
    "    sample_size = len(list_name)\n",
    "    sorted_list = sorted(list_name)\n",
    "    if sample_size%2 == 1:\n",
    "        median = sorted_list[int(sample_size/2)]\n",
    "    else:\n",
    "        element = []\n",
    "        element.append(sorted_list[int(sample_size/2) - 1])\n",
    "        element.append(sorted_list[int(sample_size/2)])\n",
    "        median = average_value(element)[0]\n",
    "        \n",
    "    return(median)\n",
    "\n",
    "#Using function median_value to calculate median of Congruent and Incongruent tests\n",
    "median_congruent = median_value(congruent_list)\n",
    "median_incongruent = median_value(incongruent_list)\n",
    "\n",
    "print(\"Congruent test median is {} and Incongruent test median is {}\".format(median_congruent, median_incongruent))"
   ]
  },
  {
   "cell_type": "code",
   "execution_count": 20,
   "metadata": {},
   "outputs": [
    {
     "name": "stdout",
     "output_type": "stream",
     "text": [
      "Congruent test variance is 12.669029070652176 and Incongruent test variance is 23.011757036231884\n",
      "Congruent test stddev is 3.5593579576451955 and Incongruent test stddev is 4.797057122469138\n"
     ]
    }
   ],
   "source": [
    "# This function reads list and return sample variance of the list\n",
    "\n",
    "def sample_variance_stddev(list_name):\n",
    "    \"\"\"This function takes sample values as the list and \n",
    "    returns variance and standard deviation of the sample.\"\"\"\n",
    "    average, sample_size = average_value(list_name)\n",
    "    sum_of_squared = sum([(list_item - average)**2 for list_item in list_name])\n",
    "    variance = sum_of_squared/(sample_size - 1)\n",
    "    stddev = math.sqrt(variance)\n",
    "    return(variance, stddev)\n",
    "\n",
    "#Using function median_value to calculate median of Congruent and Incongruent tests\n",
    "variance_congruent, stddev_congruent = sample_variance_stddev(congruent_list)\n",
    "variance_incongruent, stddev_incongruent = sample_variance_stddev(incongruent_list)\n",
    "\n",
    "print(\"Congruent test variance is {} and Incongruent test variance is {}\".format(variance_congruent, \n",
    "                                                                             variance_incongruent))\n",
    "print(\"Congruent test stddev is {} and Incongruent test stddev is {}\".format(stddev_congruent, \n",
    "                                                                             stddev_incongruent))"
   ]
  },
  {
   "cell_type": "markdown",
   "metadata": {},
   "source": [
    "<a id='visualizations'></a>\n",
    "### Visualizations\n",
    "We will plot histogram and boxplot of both Congruent and Incongruent test outcomes.\n",
    "\n",
    "**Observation**\n",
    "1. With **bin size 1**, we can see that **mode of congruent sample is in between 12 to 13** and **mode of incongruent sample is in between 17 to 18 and 20 to 21**.\n",
    "2. With **number of bins = 4**, **congruent sample resembling like normal distribution** but **no shape is appearing for incongruent sample**.\n",
    "3. From the boxplot, we can observe that **median of congruent is very comparatively less than median of incongruent** and **incongruent sample has 2 outliers**"
   ]
  },
  {
   "cell_type": "code",
   "execution_count": 21,
   "metadata": {},
   "outputs": [
    {
     "data": {
      "image/png": "[encoded data removed]",
      "text/plain": [
       "<matplotlib.figure.Figure at 0x108d85f28>"
      ]
     },
     "metadata": {},
     "output_type": "display_data"
    },
    {
     "data": {
      "image/png": "[encoded data removed]",
      "text/plain": [
       "<matplotlib.figure.Figure at 0x109129668>"
      ]
     },
     "metadata": {},
     "output_type": "display_data"
    },
    {
     "data": {
      "image/png": "[encoded data removed]",
      "text/plain": [
       "<matplotlib.figure.Figure at 0x10917add8>"
      ]
     },
     "metadata": {},
     "output_type": "display_data"
    },
    {
     "data": {
      "image/png": "[encoded data removed]",
      "text/plain": [
       "<matplotlib.figure.Figure at 0x109291630>"
      ]
     },
     "metadata": {},
     "output_type": "display_data"
    }
   ],
   "source": [
    "# Plot histogram on both the variables values.\n",
    "%matplotlib inline\n",
    "\n",
    "#Plotting histogram with bin size = 1\n",
    "plt.hist(congruent_list, bins=range(7, 36, 1))\n",
    "plt.xlim(7, 36)\n",
    "plt.ylim(0, 6)\n",
    "plt.title('Congruent Time Histogram')\n",
    "plt.xlabel('Time Taken')\n",
    "plt.ylabel('Count')\n",
    "plt.xticks(range(7, 36, 1))\n",
    "plt.yticks(range(0, 6, 1))\n",
    "plt.show()\n",
    "\n",
    "plt.hist(incongruent_list, bins=range(7, 36, 1))\n",
    "plt.xlim(7, 36)\n",
    "plt.ylim(0, 6)\n",
    "plt.title('Incongruent Time Histogram')\n",
    "plt.xlabel('Time Taken')\n",
    "plt.ylabel('Count')\n",
    "plt.xticks(range(7, 36, 1))\n",
    "plt.yticks(range(0, 6, 1))\n",
    "plt.show()\n",
    "\n",
    "\n",
    "#Plotting histogram with number of bins = 4\n",
    "plt.hist(congruent_list, bins=4)\n",
    "plt.title('Congruent Time Histogram')\n",
    "plt.xlabel('Time Taken')\n",
    "plt.ylabel('Count')\n",
    "plt.xticks(range(8, 22, 1))\n",
    "plt.show()\n",
    "\n",
    "plt.hist(incongruent_list, bins=4)\n",
    "plt.title('Incongruent Time Histogram')\n",
    "plt.xlabel('Time Taken')\n",
    "plt.ylabel('Count')\n",
    "plt.xticks(range(15, 36, 1))\n",
    "plt.show()"
   ]
  },
  {
   "cell_type": "code",
   "execution_count": 22,
   "metadata": {},
   "outputs": [
    {
     "data": {
      "image/png": "[encoded data removed]",
      "text/plain": [
       "<matplotlib.figure.Figure at 0x109040f98>"
      ]
     },
     "metadata": {},
     "output_type": "display_data"
    }
   ],
   "source": [
    "# Plot boxplot for both the tests.\n",
    "\n",
    "plt.boxplot([congruent_list, incongruent_list])\n",
    "plt.title('time boxplot for congruent and incongruent')\n",
    "plt.xlabel('Test Type')\n",
    "plt.ylabel('Time')\n",
    "plt.xticks((1, 2), ('Congruent', 'Incongruent'))\n",
    "plt.show()\n"
   ]
  },
  {
   "cell_type": "markdown",
   "metadata": {},
   "source": [
    "<a id='hypothesis'></a>\n",
    "## Hypothesis creation\n",
    "**Stroop effect states that time is significantly larger for incongruent test as compared to congruent test.**\n",
    "So we can create following hypothesis\n",
    "1. **Null Hypothesis is population mean of Incongruent test time is less than or equal to population mean of Congruent test time.**\n",
    "2. **Alternative Hypothesis is population mean of Incongruent test time is significantly higher than population mean of congruent test time.**\n",
    "\n",
    "**Mathematical Form**\n",
    "1. Null Hypothesis        H(0) : Mean(I) <= Mean(C)\n",
    "2. Alternative Hypothesis H(a) : Mean(I) > Mean(C)\n",
    "\n",
    "Where \n",
    "1. H(0) = Null Hypothesis\n",
    "2. H(a) = Alternative Hypothesis\n",
    "3. Mean(I) = Population mean of time taken in Incongruent test\n",
    "4. Mean(C) = Population mean of time taken in Congruent test\n",
    "\n",
    "<a id='statistical_test'></a>\n",
    "### Applicable Statistical Test\n",
    "**We are gonna use dependent sample t-test for this problem**. Following is the justification for this.\n",
    "1. We dont have population mean and standard deviation available. So we cant perform z-test on the samples.\n",
    "2. 2 different tests were performed on same sample. So this is two conditions example in which we are applying two different condition on same sample. So we need to use dependent sample t-test.\n",
    "3. We will perform positive-tailed test for this problem."
   ]
  },
  {
   "cell_type": "markdown",
   "metadata": {},
   "source": [
    "<a id='stat_test'></a>\n",
    "## Statistical Test\n",
    "We will perform dependent sample t-test with 2 level of confidence interval, that is, one with 95% and other with 99%.\n",
    "\n",
    "<a id='t_test'></a>\n",
    "### Dependent sample t-test\n",
    "We already have following parameter available from the exploratory data analysis.\n",
    "\n",
    "**t-test critical levels for 95% confidence interval for degree of freedom = 23**\n",
    "This is positive tailed test so we will look for 0.05 in t table with degree of freedom as 23. **So t-test critical value is 1.714**.\n",
    "\n",
    "**t-test critical levels for 99% confidence interval for degree of freedom = 23**\n",
    "This is positive tailed test so we will look for 0.01 in t table with degree of freedom as 23. **So t-test critical value is 2.500**."
   ]
  },
  {
   "cell_type": "code",
   "execution_count": 23,
   "metadata": {},
   "outputs": [
    {
     "name": "stdout",
     "output_type": "stream",
     "text": [
      "Degree of freedom is 23\n"
     ]
    }
   ],
   "source": [
    "# calculations of various parameters for t-test\n",
    "degree_of_freedom = len(congruent_list) - 1\n",
    "print(\"Degree of freedom is {}\".format(degree_of_freedom))"
   ]
  },
  {
   "cell_type": "code",
   "execution_count": 24,
   "metadata": {},
   "outputs": [
    {
     "name": "stdout",
     "output_type": "stream",
     "text": [
      "[7.198999999999998, 1.9499999999999993, 11.649999999999999, 7.056999999999999, 8.134, 8.64, 9.879999999999999, 8.406999999999998, 11.361, 11.802, 2.1960000000000015, 3.3459999999999983, 2.437000000000001, 3.401, 17.055000000000003, 10.028, 6.643999999999998, 9.79, 6.081000000000001, 21.918999999999997, 10.949999999999998, 3.7270000000000003, 2.347999999999999, 5.152999999999999]\n"
     ]
    }
   ],
   "source": [
    "# This function calculates the difference for each sample and store it in a list\n",
    "def difference_list(test_1, test_2):\n",
    "    \"\"\"This function takes 2 test sample values and \n",
    "    returns difference of values between sample which is test_2-test_1\"\"\"\n",
    "    diff = [x - y for x, y in zip(test_2, test_1)]\n",
    "    \n",
    "    return(diff)\n",
    "\n",
    "difference = difference_list(congruent_list, incongruent_list)\n",
    "print(difference)"
   ]
  },
  {
   "cell_type": "code",
   "execution_count": 25,
   "metadata": {},
   "outputs": [
    {
     "name": "stdout",
     "output_type": "stream",
     "text": [
      "Standard deviation & variance of difference is 4.864826910359054 & 23.66654086775362 and point estimate is 7.964791666666664\n"
     ]
    }
   ],
   "source": [
    "# calculating point estimate/mean of difference and standard deviation of differences\n",
    "\n",
    "point_estimate = average_value(difference)[0]\n",
    "diff_variance, diff_stddev = sample_variance_stddev(difference)\n",
    "\n",
    "print(\"Standard deviation & variance of difference is {} & {} and point estimate is {}\".format(\n",
    "    diff_stddev,diff_variance, point_estimate))"
   ]
  },
  {
   "cell_type": "code",
   "execution_count": 26,
   "metadata": {},
   "outputs": [
    {
     "name": "stdout",
     "output_type": "stream",
     "text": [
      "Standard Error for the sample is 0.9930286347783402\n"
     ]
    }
   ],
   "source": [
    "# This function calculates standard error for sample\n",
    "def std_error(diff_stddev, sample_size):\n",
    "    \"\"\"This function takes standard deviation of the difference and sample size and \n",
    "    returns standard error\"\"\"\n",
    "    standard_error = diff_stddev/math.sqrt(sample_size)\n",
    "    return(standard_error)\n",
    "\n",
    "standard_error = std_error(diff_stddev, len(congruent_list))\n",
    "print('Standard Error for the sample is {}'.format(standard_error))"
   ]
  },
  {
   "cell_type": "code",
   "execution_count": 27,
   "metadata": {},
   "outputs": [
    {
     "name": "stdout",
     "output_type": "stream",
     "text": [
      "t-statistics for the sample is 8.020706944109957\n"
     ]
    }
   ],
   "source": [
    "# This function calculates t-statistics\n",
    "def t_stats(point_estimate, standard_error):\n",
    "    \"\"\"This function takes point_estimate and standard error as input and \n",
    "    returns t_stats value\"\"\"\n",
    "    t_statistics = point_estimate/standard_error\n",
    "    return(t_statistics)\n",
    "\n",
    "t_statistics = t_stats(point_estimate, standard_error)\n",
    "print('t-statistics for the sample is {}'.format(t_statistics))"
   ]
  },
  {
   "cell_type": "code",
   "execution_count": 28,
   "metadata": {},
   "outputs": [
    {
     "name": "stdout",
     "output_type": "stream",
     "text": [
      "confidence interval for 95% is (5.910215421310278, 10.01936791202305)\n",
      "confidence interval for 99% is (5.177360288843863, 10.752223044489465)\n",
      "margin of error for 95% is 2.054576245356386\n",
      "margin of error for 99% is 2.787431377822801\n",
      "Conhen's D is 1.6372199491222625\n",
      "r-squared value is 0.736636416144506\n"
     ]
    }
   ],
   "source": [
    "# These functions calculates the confidence interval, cohen'd D, r-squared values, margin_of_error\n",
    "\n",
    "def confidence_interval_value(point_estimate, t_critical, standard_error):\n",
    "    \"\"\"This function takes point_estimate, t_critical value and standar_error and \n",
    "    returns confidence interval in (lower_bound, upper_bound) tuple\"\"\"\n",
    "    upper_bound = point_estimate + t_critical*standard_error\n",
    "    lower_bound = point_estimate - t_critical*standard_error\n",
    "    return(lower_bound, upper_bound)\n",
    "\n",
    "def cohen_d_value(point_estimate, standard_deviation):\n",
    "    \"\"\"Thid function takes point_estimate and standard deviation and \n",
    "    returns Cohen's D value\"\"\"\n",
    "    cohen_s_d = point_estimate/standard_deviation\n",
    "    return(cohen_s_d)\n",
    "\n",
    "def r_squared_value(t_statistics, degree_of_freedom):\n",
    "    \"\"\"This function takes calculated t_statistics value and degree of freedom and \n",
    "    returns r-suqared value\"\"\"\n",
    "    r_squared = (t_statistics**2)/(t_statistics**2 + degree_of_freedom)\n",
    "    return(r_squared)\n",
    "\n",
    "def margin_of_error_value(t_critical, standard_error):\n",
    "    \"\"\"This function take t_critical and standard value and \n",
    "    returens margin_of_error\"\"\"\n",
    "    margin_of_error = t_critical*standard_error\n",
    "    return(margin_of_error)\n",
    "\n",
    "# Calculation of confidence interval, cohen'd D, r-squared values, margin_of_error\n",
    "t_critical = 2.069\n",
    "confidence_interval_95 = confidence_interval_value(point_estimate, t_critical, standard_error)\n",
    "margin_of_error_95 = margin_of_error_value(t_critical, standard_error)\n",
    "\n",
    "t_critical = 2.807\n",
    "confidence_interval_99 = confidence_interval_value(point_estimate, t_critical, standard_error)\n",
    "margin_of_error_99 = margin_of_error_value(t_critical, standard_error)\n",
    "\n",
    "print('confidence interval for 95% is {}'.format(confidence_interval_95))\n",
    "print('confidence interval for 99% is {}'.format(confidence_interval_99))\n",
    "\n",
    "print('margin of error for 95% is {}'.format(margin_of_error_95))\n",
    "print('margin of error for 99% is {}'.format(margin_of_error_99))\n",
    "\n",
    "\n",
    "cohen_s_d = cohen_d_value(point_estimate, diff_stddev)\n",
    "print(\"Conhen's D is {}\".format(cohen_s_d))\n",
    "\n",
    "\n",
    "r_squared = r_squared_value(t_statistics, degree_of_freedom)\n",
    "print(\"r-squared value is {}\".format(r_squared))\n"
   ]
  },
  {
   "cell_type": "markdown",
   "metadata": {},
   "source": [
    "<a id='conclusion'></a>\n",
    "## Conclusion\n",
    "\n",
    "**t-test critical levels for 95% confidence interval for degree of freedom = 23**\n",
    "This is positive tailed test so we will look for 0.05 in t table with degree of freedom as 23. **So t-test critical value is 1.714**.\n",
    "\n",
    "**t-test critical levels for 99% confidence interval for degree of freedom = 23**\n",
    "This is positive tailed test so we will look for 0.01 in t table with degree of freedom as 23. **So t-test critical value is 2.500**.\n",
    "\n",
    "**t-statistics for the sample is 8.020706944109957 which is way higher than t-critical values for 95% and 99% confidence intervals which denotes that incongruent test time is significantly higher than that of congruent test result**.\n",
    "\n",
    "We also have following other parameters\n",
    "1. Degree of freedom is 23\n",
    "2. Standard deviation & variance of difference is 4.864826910359054 & 23.66654086775362 and point estimate is 7.964791666666664\n",
    "3. Standard Error for the sample is 0.9930286347783402\n",
    "4. t-statistics for the sample is 8.020706944109957\n",
    "5. confidence interval for 95% is (5.910215421310278, 10.01936791202305)\n",
    "6. confidence interval for 99% is (5.177360288843863, 10.752223044489465)\n",
    "7. margin of error for 95% is 2.054576245356386\n",
    "8. margin of error for 99% is 2.787431377822801\n",
    "9. Conhen's D is 1.6372199491222625\n",
    "10. r-squared value is 0.736636416144506. So 73.66% variance was explained by Stroop's effect.\n",
    "\n",
    "\n",
    "**Reason for this effect**\n",
    "1. Incogruence of word and font color caused confusion in the brain which ultimately caused delay in the processing at brain which ultimately resulted in more time in naming the ink/font color.\n",
    "\n",
    "2. Similar kind of scenario can occur when we provide picture of animal and name of animal under that animal and name of animal is different than the animal in the picture and person need to call out either written animal name or animal in the picture."
   ]
  },
  {
   "cell_type": "code",
   "execution_count": null,
   "metadata": {},
   "outputs": [],
   "source": []
  }
 ],
 "metadata": {
  "kernelspec": {
   "display_name": "Python 3",
   "language": "python",
   "name": "python3"
  },
  "language_info": {
   "codemirror_mode": {
    "name": "ipython",
    "version": 3
   },
   "file_extension": ".py",
   "mimetype": "text/x-python",
   "name": "python",
   "nbconvert_exporter": "python",
   "pygments_lexer": "ipython3",
   "version": "3.6.1"
  }
 },
 "nbformat": 4,
 "nbformat_minor": 2
}
